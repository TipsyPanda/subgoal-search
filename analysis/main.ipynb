# Import necessary libraries
import pandas as pd
import matplotlib.pyplot as plt

# Load the data from your CSV file into a pandas DataFrame
data = pd.read_csv('Analysis/metrics_bfs.csv')  # replace 'your_file.csv' with your actual file name

# Display the DataFrame to make sure everything is loaded properly
print(data.head())

# Create a bar plot showing the average solve time for each method
average_solve_time = data.groupby('method')['solve_time'].mean()
average_solve_time.plot(kind='bar', title='Average Solve Time by Method', ylabel='Solve Time')
plt.show()

# Create a scatter plot comparing the number of nodes to the solve time for each method
for method in data['method'].unique():
    method_data = data[data['method'] == method]
    plt.scatter(method_data['nodes'], method_data['solve_time'], label=method)

plt.xlabel('Nodes')
plt.ylabel('Solve Time')
plt.title('Solve Time vs Number of Nodes by Method')
plt.legend()
plt.show()

# Create a box plot to visualize the distribution of solve lengths for each method
data.boxplot(column='solve_length', by='method')
plt.title('Distribution of Solve Lengths by Method')
plt.ylabel('Solve Length')
plt.show()
